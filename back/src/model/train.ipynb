{
 "cells": [
  {
   "cell_type": "code",
   "execution_count": 15,
   "id": "ffa2c207",
   "metadata": {},
   "outputs": [
    {
     "name": "stdout",
     "output_type": "stream",
     "text": [
      "INFO: Pandarallel will run on 8 workers.\n",
      "INFO: Pandarallel will use standard multiprocessing data transfer (pipe) to transfer data between the main process and workers.\n"
     ]
    }
   ],
   "source": [
    "import re\n",
    "\n",
    "import joblib\n",
    "import pandas as pd\n",
    "from pandarallel import pandarallel\n",
    "from sklearn.pipeline import Pipeline\n",
    "from sklearn.compose import ColumnTransformer\n",
    "from sklearn.preprocessing import StandardScaler\n",
    "from sklearn.feature_extraction.text import TfidfVectorizer\n",
    "from sklearn.model_selection import train_test_split\n",
    "from sklearn.dummy import DummyRegressor\n",
    "from sklearn.linear_model import LinearRegression\n",
    "from sklearn.tree import DecisionTreeRegressor\n",
    "from sklearn.metrics import mean_squared_error\n",
    "\n",
    "import preprocess\n",
    "\n",
    "pandarallel.initialize(progress_bar=True)"
   ]
  },
  {
   "cell_type": "markdown",
   "id": "80b824c4",
   "metadata": {},
   "source": [
    "## Preprocessing"
   ]
  },
  {
   "cell_type": "code",
   "execution_count": 16,
   "id": "72c0a3d5",
   "metadata": {},
   "outputs": [
    {
     "data": {
      "text/html": [
       "<div>\n",
       "<style scoped>\n",
       "    .dataframe tbody tr th:only-of-type {\n",
       "        vertical-align: middle;\n",
       "    }\n",
       "\n",
       "    .dataframe tbody tr th {\n",
       "        vertical-align: top;\n",
       "    }\n",
       "\n",
       "    .dataframe thead th {\n",
       "        text-align: right;\n",
       "    }\n",
       "</style>\n",
       "<table border=\"1\" class=\"dataframe\">\n",
       "  <thead>\n",
       "    <tr style=\"text-align: right;\">\n",
       "      <th></th>\n",
       "      <th>theme</th>\n",
       "      <th>text</th>\n",
       "      <th>rating</th>\n",
       "    </tr>\n",
       "  </thead>\n",
       "  <tbody>\n",
       "    <tr>\n",
       "      <th>0</th>\n",
       "      <td>pro-sudey</td>\n",
       "      <td>На суде в Стамбуле обвиняемый сказал:\\r\\n- На...</td>\n",
       "      <td>5</td>\n",
       "    </tr>\n",
       "    <tr>\n",
       "      <th>1</th>\n",
       "      <td>pro-sudey</td>\n",
       "      <td>- Вы продолжаете утверждать, что обвиняемый н...</td>\n",
       "      <td>4</td>\n",
       "    </tr>\n",
       "    <tr>\n",
       "      <th>2</th>\n",
       "      <td>pro-sudey</td>\n",
       "      <td>На суде.\\r\\n- Итак, когда дело дошло до столкн...</td>\n",
       "      <td>0</td>\n",
       "    </tr>\n",
       "    <tr>\n",
       "      <th>3</th>\n",
       "      <td>pro-sudey</td>\n",
       "      <td>Старую леди сбил автомобиль. На суде ее спраши...</td>\n",
       "      <td>4</td>\n",
       "    </tr>\n",
       "    <tr>\n",
       "      <th>4</th>\n",
       "      <td>pro-sudey</td>\n",
       "      <td>Судья говорит:\\r\\n- Согласно вашей жалобе, об...</td>\n",
       "      <td>2</td>\n",
       "    </tr>\n",
       "  </tbody>\n",
       "</table>\n",
       "</div>"
      ],
      "text/plain": [
       "       theme                                               text  rating\n",
       "0  pro-sudey  На суде в Стамбуле обвиняемый сказал:\\r\\n- На...       5\n",
       "1  pro-sudey  - Вы продолжаете утверждать, что обвиняемый н...       4\n",
       "2  pro-sudey  На суде.\\r\\n- Итак, когда дело дошло до столкн...       0\n",
       "3  pro-sudey  Старую леди сбил автомобиль. На суде ее спраши...       4\n",
       "4  pro-sudey  Судья говорит:\\r\\n- Согласно вашей жалобе, об...       2"
      ]
     },
     "execution_count": 16,
     "metadata": {},
     "output_type": "execute_result"
    }
   ],
   "source": [
    "df = pd.read_csv('../../data/jokes.csv')\n",
    "df.head()"
   ]
  },
  {
   "cell_type": "code",
   "execution_count": 17,
   "id": "6a902a77",
   "metadata": {},
   "outputs": [
    {
     "data": {
      "application/vnd.jupyter.widget-view+json": {
       "model_id": "a666d4f8dbad4f35b1c1e3a2376414ae",
       "version_major": 2,
       "version_minor": 0
      },
      "text/plain": [
       "VBox(children=(HBox(children=(IntProgress(value=0, description='0.00%', max=16276), Label(value='0 / 16276')))…"
      ]
     },
     "metadata": {},
     "output_type": "display_data"
    }
   ],
   "source": [
    "df['text'] = df['text'].parallel_apply(preprocess.lemmatize) "
   ]
  },
  {
   "cell_type": "code",
   "execution_count": 18,
   "id": "84c6b830",
   "metadata": {},
   "outputs": [],
   "source": [
    "df['rating'] = (df['rating'] - df['rating'].min())/(df['rating'].max() - df['rating'].min())*100."
   ]
  },
  {
   "cell_type": "code",
   "execution_count": 19,
   "id": "69768126",
   "metadata": {},
   "outputs": [
    {
     "data": {
      "text/html": [
       "<div>\n",
       "<style scoped>\n",
       "    .dataframe tbody tr th:only-of-type {\n",
       "        vertical-align: middle;\n",
       "    }\n",
       "\n",
       "    .dataframe tbody tr th {\n",
       "        vertical-align: top;\n",
       "    }\n",
       "\n",
       "    .dataframe thead th {\n",
       "        text-align: right;\n",
       "    }\n",
       "</style>\n",
       "<table border=\"1\" class=\"dataframe\">\n",
       "  <thead>\n",
       "    <tr style=\"text-align: right;\">\n",
       "      <th></th>\n",
       "      <th>theme</th>\n",
       "      <th>text</th>\n",
       "      <th>rating</th>\n",
       "    </tr>\n",
       "  </thead>\n",
       "  <tbody>\n",
       "    <tr>\n",
       "      <th>0</th>\n",
       "      <td>pro-sudey</td>\n",
       "      <td>суд стамбул обвиняемый свой жертва нападать но...</td>\n",
       "      <td>2.875399</td>\n",
       "    </tr>\n",
       "    <tr>\n",
       "      <th>1</th>\n",
       "      <td>pro-sudey</td>\n",
       "      <td>продолжать утверждать обвиняемый назвать дурак...</td>\n",
       "      <td>2.555911</td>\n",
       "    </tr>\n",
       "    <tr>\n",
       "      <th>2</th>\n",
       "      <td>pro-sudey</td>\n",
       "      <td>суд итак дело дойти столкновение противник рук...</td>\n",
       "      <td>1.277955</td>\n",
       "    </tr>\n",
       "    <tr>\n",
       "      <th>3</th>\n",
       "      <td>pro-sudey</td>\n",
       "      <td>старый леди сбить автомобиль суд спрашивать де...</td>\n",
       "      <td>2.555911</td>\n",
       "    </tr>\n",
       "    <tr>\n",
       "      <th>4</th>\n",
       "      <td>pro-sudey</td>\n",
       "      <td>судья говорить согласно вашея жалоба обвиняемы...</td>\n",
       "      <td>1.916933</td>\n",
       "    </tr>\n",
       "  </tbody>\n",
       "</table>\n",
       "</div>"
      ],
      "text/plain": [
       "       theme                                               text    rating\n",
       "0  pro-sudey  суд стамбул обвиняемый свой жертва нападать но...  2.875399\n",
       "1  pro-sudey  продолжать утверждать обвиняемый назвать дурак...  2.555911\n",
       "2  pro-sudey  суд итак дело дойти столкновение противник рук...  1.277955\n",
       "3  pro-sudey  старый леди сбить автомобиль суд спрашивать де...  2.555911\n",
       "4  pro-sudey  судья говорить согласно вашея жалоба обвиняемы...  1.916933"
      ]
     },
     "execution_count": 19,
     "metadata": {},
     "output_type": "execute_result"
    }
   ],
   "source": [
    "df.head()"
   ]
  },
  {
   "cell_type": "markdown",
   "id": "73661a4d",
   "metadata": {},
   "source": [
    "## Training"
   ]
  },
  {
   "cell_type": "code",
   "execution_count": 20,
   "id": "9488c2b2",
   "metadata": {},
   "outputs": [],
   "source": [
    "X_train, X_test, y_train, y_test = train_test_split(\n",
    "  df['text'], df['rating'], test_size=0.3, random_state=42\n",
    ")"
   ]
  },
  {
   "cell_type": "code",
   "execution_count": 21,
   "id": "afaaa37e",
   "metadata": {},
   "outputs": [
    {
     "name": "stdout",
     "output_type": "stream",
     "text": [
      "1.5304261477697982\n"
     ]
    }
   ],
   "source": [
    "baseline_pipeline = Pipeline(steps=[\n",
    "  ('vectorizer', TfidfVectorizer()),\n",
    "  ('model', DummyRegressor())\n",
    "])\n",
    "\n",
    "baseline_pipeline.fit(X_train, y_train)\n",
    "\n",
    "baseline_mse = mean_squared_error(\n",
    "  baseline_pipeline.predict(X_test),\n",
    "  y_test\n",
    ")\n",
    "\n",
    "print(baseline_mse)"
   ]
  },
  {
   "cell_type": "code",
   "execution_count": 22,
   "id": "5ac63c04",
   "metadata": {},
   "outputs": [
    {
     "name": "stdout",
     "output_type": "stream",
     "text": [
      "9.508901605305216\n"
     ]
    },
    {
     "data": {
      "text/plain": [
       "['../../models/lr.pkl']"
      ]
     },
     "execution_count": 22,
     "metadata": {},
     "output_type": "execute_result"
    }
   ],
   "source": [
    "lr_pipeline = Pipeline(steps=[\n",
    "  ('vectorizer', TfidfVectorizer()),\n",
    "  ('model', LinearRegression())\n",
    "])\n",
    "\n",
    "lr_pipeline.fit(X_train, y_train)\n",
    "\n",
    "lr_mse = mean_squared_error(\n",
    "  lr_pipeline.predict(X_test),\n",
    "  y_test\n",
    ")\n",
    "\n",
    "print(lr_mse)\n",
    "joblib.dump(lr_pipeline, '../../models/lr.pkl')"
   ]
  },
  {
   "cell_type": "code",
   "execution_count": 24,
   "id": "7462ed82",
   "metadata": {},
   "outputs": [
    {
     "name": "stdout",
     "output_type": "stream",
     "text": [
      "1.1024651589942072\n"
     ]
    },
    {
     "data": {
      "text/plain": [
       "['../../models/tr.pkl']"
      ]
     },
     "execution_count": 24,
     "metadata": {},
     "output_type": "execute_result"
    }
   ],
   "source": [
    "tr_pipeline = Pipeline(steps=[\n",
    "  ('vectorizer', TfidfVectorizer()),\n",
    "  ('model', DecisionTreeRegressor())\n",
    "])\n",
    "\n",
    "tr_pipeline.fit(X_train, y_train)\n",
    "\n",
    "tr_mse = mean_squared_error(\n",
    "  tr_pipeline.predict(X_test),\n",
    "  y_test\n",
    ")\n",
    "\n",
    "print(tr_mse)\n",
    "joblib.dump(tr_pipeline, '../../models/tr.pkl')"
   ]
  },
  {
   "cell_type": "code",
   "execution_count": 25,
   "id": "a1498e98",
   "metadata": {},
   "outputs": [],
   "source": [
    "df['pred_rating'] = tr_pipeline.predict(df['text'])"
   ]
  },
  {
   "cell_type": "code",
   "execution_count": 26,
   "id": "fce420b9",
   "metadata": {},
   "outputs": [
    {
     "data": {
      "text/html": [
       "<div>\n",
       "<style scoped>\n",
       "    .dataframe tbody tr th:only-of-type {\n",
       "        vertical-align: middle;\n",
       "    }\n",
       "\n",
       "    .dataframe tbody tr th {\n",
       "        vertical-align: top;\n",
       "    }\n",
       "\n",
       "    .dataframe thead th {\n",
       "        text-align: right;\n",
       "    }\n",
       "</style>\n",
       "<table border=\"1\" class=\"dataframe\">\n",
       "  <thead>\n",
       "    <tr style=\"text-align: right;\">\n",
       "      <th></th>\n",
       "      <th>theme</th>\n",
       "      <th>text</th>\n",
       "      <th>rating</th>\n",
       "      <th>pred_rating</th>\n",
       "    </tr>\n",
       "  </thead>\n",
       "  <tbody>\n",
       "    <tr>\n",
       "      <th>0</th>\n",
       "      <td>pro-sudey</td>\n",
       "      <td>суд стамбул обвиняемый свой жертва нападать но...</td>\n",
       "      <td>2.875399</td>\n",
       "      <td>2.236422</td>\n",
       "    </tr>\n",
       "    <tr>\n",
       "      <th>1</th>\n",
       "      <td>pro-sudey</td>\n",
       "      <td>продолжать утверждать обвиняемый назвать дурак...</td>\n",
       "      <td>2.555911</td>\n",
       "      <td>2.555911</td>\n",
       "    </tr>\n",
       "    <tr>\n",
       "      <th>2</th>\n",
       "      <td>pro-sudey</td>\n",
       "      <td>суд итак дело дойти столкновение противник рук...</td>\n",
       "      <td>1.277955</td>\n",
       "      <td>1.277955</td>\n",
       "    </tr>\n",
       "    <tr>\n",
       "      <th>3</th>\n",
       "      <td>pro-sudey</td>\n",
       "      <td>старый леди сбить автомобиль суд спрашивать де...</td>\n",
       "      <td>2.555911</td>\n",
       "      <td>2.555911</td>\n",
       "    </tr>\n",
       "    <tr>\n",
       "      <th>4</th>\n",
       "      <td>pro-sudey</td>\n",
       "      <td>судья говорить согласно вашея жалоба обвиняемы...</td>\n",
       "      <td>1.916933</td>\n",
       "      <td>1.916933</td>\n",
       "    </tr>\n",
       "    <tr>\n",
       "      <th>...</th>\n",
       "      <td>...</td>\n",
       "      <td>...</td>\n",
       "      <td>...</td>\n",
       "      <td>...</td>\n",
       "    </tr>\n",
       "    <tr>\n",
       "      <th>130199</th>\n",
       "      <td>raznie</td>\n",
       "      <td>збежать медведь зоопарк передать радио написат...</td>\n",
       "      <td>1.277955</td>\n",
       "      <td>1.277955</td>\n",
       "    </tr>\n",
       "    <tr>\n",
       "      <th>130200</th>\n",
       "      <td>raznie</td>\n",
       "      <td>разговаривать грузин гоги авас эх авас трахать...</td>\n",
       "      <td>1.277955</td>\n",
       "      <td>1.277955</td>\n",
       "    </tr>\n",
       "    <tr>\n",
       "      <th>130201</th>\n",
       "      <td>raznie</td>\n",
       "      <td>спать гений крепкий</td>\n",
       "      <td>1.277955</td>\n",
       "      <td>1.277955</td>\n",
       "    </tr>\n",
       "    <tr>\n",
       "      <th>130202</th>\n",
       "      <td>raznie</td>\n",
       "      <td>очередь последнея нея стоить бабка горбатый но...</td>\n",
       "      <td>1.277955</td>\n",
       "      <td>1.277955</td>\n",
       "    </tr>\n",
       "    <tr>\n",
       "      <th>130203</th>\n",
       "      <td>raznie</td>\n",
       "      <td>рабинович рубла</td>\n",
       "      <td>1.277955</td>\n",
       "      <td>1.277955</td>\n",
       "    </tr>\n",
       "  </tbody>\n",
       "</table>\n",
       "<p>130204 rows × 4 columns</p>\n",
       "</div>"
      ],
      "text/plain": [
       "            theme                                               text  \\\n",
       "0       pro-sudey  суд стамбул обвиняемый свой жертва нападать но...   \n",
       "1       pro-sudey  продолжать утверждать обвиняемый назвать дурак...   \n",
       "2       pro-sudey  суд итак дело дойти столкновение противник рук...   \n",
       "3       pro-sudey  старый леди сбить автомобиль суд спрашивать де...   \n",
       "4       pro-sudey  судья говорить согласно вашея жалоба обвиняемы...   \n",
       "...           ...                                                ...   \n",
       "130199     raznie  збежать медведь зоопарк передать радио написат...   \n",
       "130200     raznie  разговаривать грузин гоги авас эх авас трахать...   \n",
       "130201     raznie                                спать гений крепкий   \n",
       "130202     raznie  очередь последнея нея стоить бабка горбатый но...   \n",
       "130203     raznie                                    рабинович рубла   \n",
       "\n",
       "          rating  pred_rating  \n",
       "0       2.875399     2.236422  \n",
       "1       2.555911     2.555911  \n",
       "2       1.277955     1.277955  \n",
       "3       2.555911     2.555911  \n",
       "4       1.916933     1.916933  \n",
       "...          ...          ...  \n",
       "130199  1.277955     1.277955  \n",
       "130200  1.277955     1.277955  \n",
       "130201  1.277955     1.277955  \n",
       "130202  1.277955     1.277955  \n",
       "130203  1.277955     1.277955  \n",
       "\n",
       "[130204 rows x 4 columns]"
      ]
     },
     "execution_count": 26,
     "metadata": {},
     "output_type": "execute_result"
    }
   ],
   "source": [
    "df"
   ]
  }
 ],
 "metadata": {
  "jupytext": {
   "cell_metadata_filter": "-all",
   "custom_cell_magics": "kql"
  },
  "kernelspec": {
   "display_name": ".venv",
   "language": "python",
   "name": "python3"
  },
  "language_info": {
   "codemirror_mode": {
    "name": "ipython",
    "version": 3
   },
   "file_extension": ".py",
   "mimetype": "text/x-python",
   "name": "python",
   "nbconvert_exporter": "python",
   "pygments_lexer": "ipython3",
   "version": "3.12.3"
  }
 },
 "nbformat": 4,
 "nbformat_minor": 5
}
